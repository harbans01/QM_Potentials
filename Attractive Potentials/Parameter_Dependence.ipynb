{
 "cells": [
  {
   "cell_type": "code",
   "execution_count": 1,
   "id": "2938daa4-feef-433f-ab01-6d98745c4f0f",
   "metadata": {},
   "outputs": [],
   "source": [
    "from scipy.special import spherical_jn as jn\n",
    "from scipy.special import spherical_yn as yn\n",
    "from scipy.special import lambertw as lamb\n",
    "from scipy.misc import derivative\n",
    "from scipy.interpolate import CubicSpline as CS\n",
    "import matplotlib.pyplot as plt\n",
    "import numpy as np\n",
    "import numpy as np\n",
    "#from matplotlib.animation import FuncAnimation\n",
    "#from IPython import display\n",
    "from scipy.integrate import solve_ivp"
   ]
  },
  {
   "cell_type": "code",
   "execution_count": 40,
   "id": "99619663-7950-480d-a287-8e8fa79779af",
   "metadata": {},
   "outputs": [],
   "source": [
    "def Vpot(r,V0):\n",
    "    return -V0*np.exp(-r*r)\n",
    "#def Vpot(r, V0):\n",
    "   # a = 2*1.\n",
    "  #  smooth = 10.\n",
    "  #  return V0 * np.tanh((r - a / 2) * smooth) / 2 - V0/2"
   ]
  },
  {
   "cell_type": "code",
   "execution_count": 41,
   "id": "8acac3ba-8205-4575-b8c4-0021793f4228",
   "metadata": {},
   "outputs": [],
   "source": [
    "Varray = np.loadtxt(\"F:/Spyder/potential_depths.dat\")\n",
    "#Varray = np.linspace(1.0, 2.0, 270)  "
   ]
  },
  {
   "cell_type": "code",
   "execution_count": null,
   "id": "fcb1799d-cc4a-4086-b933-cf645038617d",
   "metadata": {},
   "outputs": [],
   "source": []
  },
  {
   "cell_type": "code",
   "execution_count": 43,
   "id": "0a5d3f2b-6dc3-4907-920c-7ad4eba065e6",
   "metadata": {},
   "outputs": [
    {
     "name": "stderr",
     "output_type": "stream",
     "text": [
      "C:\\Users\\dell\\AppData\\Local\\Temp\\ipykernel_27924\\927159341.py:47: DeprecationWarning: scipy.misc.derivative is deprecated in SciPy v1.10.0; and will be completely removed in SciPy v1.12.0. You may consider using findiff: https://github.com/maroba/findiff or numdifftools: https://github.com/pbrod/numdifftools\n",
      "  num = yn(l, pmom*ra)*Rfunc(ra) - derivative(ynfn, ra, dx=0.00001)\n",
      "C:\\Users\\dell\\AppData\\Local\\Temp\\ipykernel_27924\\927159341.py:48: DeprecationWarning: scipy.misc.derivative is deprecated in SciPy v1.10.0; and will be completely removed in SciPy v1.12.0. You may consider using findiff: https://github.com/maroba/findiff or numdifftools: https://github.com/pbrod/numdifftools\n",
      "  den = jn(l, pmom*ra)*Rfunc(ra) - derivative(jnfn, ra, dx=0.00001)\n"
     ]
    }
   ],
   "source": [
    "def odeeqns(r, y, Mr, l, El, V0):\n",
    "    theta, omega = y\n",
    "    return [omega, -2.*Mr*(El-Vpot(r,V0))*theta]\n",
    "\n",
    "\n",
    "y0=[0.,1.]\n",
    "r=np.linspace(0.001,12.,1500)\n",
    "rlen = len(r)\n",
    "Mr=0.95\n",
    "l=0\n",
    "V0=np.pi**2/8\n",
    "r_span = (0.001,12.)\n",
    "\n",
    "rbsc = []\n",
    "vbsc = []\n",
    "Elvls = []\n",
    "for iEdel in np.linspace(-40.,0.,num=200):\n",
    "    El=iEdel/800.+0.001\n",
    "    Elvls.append(El)\n",
    "    pmom = np.lib.scimath.sqrt(2*Mr*El)\n",
    "    rbsc.append(np.real(1j*np.power(pmom,2*l+1)))\n",
    "    vbsc.append(np.real(1j*np.power(-pmom,2*l+1)))\n",
    "    \n",
    "Eplvls = np.linspace(0.,100.,num=200)/800.+0.000001\n",
    "\n",
    "rbsc = np.array(rbsc)\n",
    "vbsc = np.array(vbsc)\n",
    "Elvls = np.array(Elvls)\n",
    "\n",
    "def kmat(V0):\n",
    "    ktilde = []\n",
    "    for iEdel in np.linspace(-40.,0.,num=200):\n",
    "        El=iEdel/800.+0.001\n",
    "        usol = solve_ivp(odeeqns, r_span,  y0, t_eval= r, args=(Mr, l, El, V0),)\n",
    "\n",
    "        #ufunc=CS(usol.t, -usol.y[0])\n",
    "        Rfunc=CS(usol.t[1:], np.lib.scimath.log(usol.y[0][1:]/usol.t[1:])).derivative()\n",
    "\n",
    "        #Rvals = Rfunc(usol.t)\n",
    "        ra = 8.\n",
    "        pmom = np.lib.scimath.sqrt(2*Mr*El)\n",
    "        def jnfn(x):\n",
    "            return jn(l, pmom*x)\n",
    "        def ynfn(x):\n",
    "            return yn(l, pmom*x)\n",
    "\n",
    "        num = yn(l, pmom*ra)*Rfunc(ra) - derivative(ynfn, ra, dx=0.00001)\n",
    "        den = jn(l, pmom*ra)*Rfunc(ra) - derivative(jnfn, ra, dx=0.00001)\n",
    "        ktilde.append(np.real(np.power(pmom,2*l+1)*num/den))\n",
    "               \n",
    "    rpsin = CS(Elvls, np.array(ktilde)-rbsc)\n",
    "    vpsin = CS(Elvls, np.array(ktilde)-vbsc)\n",
    "    polE = -10. \n",
    "    polp = -10.\n",
    "    #uwfn = solve_ivp(odeeqns, r_span, y0, t_eval= r, args=(Mr, l, polE, V0),)\n",
    "    #penh = 1000.*np.ones((len(Eplvls)))\n",
    "    for sols in rpsin.roots():\n",
    "        if sols<0:\n",
    "            if sols>polE:\n",
    "                polE = sols\n",
    "                polp = np.real(1j*np.lib.scimath.sqrt(2*Mr*polE))\n",
    "                #uwfn = solve_ivp(odeeqns, r_span, y0, t_eval= r, args=(Mr, l, polE, V0),)\n",
    "                #penh = np.sqrt(np.power(2*Mr*Eplvls,3))/np.power(rpsin(Eplvls),2)\n",
    "    for sols in vpsin.roots():\n",
    "        if sols<0:\n",
    "            if sols>polE:\n",
    "                polE = sols\n",
    "                polp = np.real(-1j*np.lib.scimath.sqrt(2*Mr*polE))\n",
    "                #uwfn = solve_ivp(odeeqns, r_span,  y0,t_eval= r, args=(Mr, l, polE, V0),)\n",
    "                #penh = np.sqrt(np.power(2*Mr*Eplvls,3))/np.power(vpsin(Eplvls),2)\n",
    "\n",
    "    return polp, polE\n",
    "          \n",
    "\n",
    "\n",
    "Epg = []\n",
    "EEg = []  \n",
    "for i in Varray:\n",
    "    polp, polE = kmat(i)\n",
    "    Epg.append(polp)\n",
    "    EEg.append(polE)"
   ]
  },
  {
   "cell_type": "code",
   "execution_count": 44,
   "id": "839b6f6f-b318-4e1e-aaef-93c5f6c23993",
   "metadata": {},
   "outputs": [
    {
     "data": {
      "image/png": "[encoded data removed]",
      "text/plain": [
       "<Figure size 640x480 with 1 Axes>"
      ]
     },
     "metadata": {},
     "output_type": "display_data"
    }
   ],
   "source": [
    "plt.ylim(-0.5,0.50)\n",
    "plt.xlim(1.0,1.8)\n",
    "plt.scatter(Varray, Epg)\n",
    "plt.show()"
   ]
  },
  {
   "cell_type": "code",
   "execution_count": 24,
   "id": "6bacfb91-94f9-4b13-9622-80df9823da8e",
   "metadata": {},
   "outputs": [],
   "source": [
    "def replace_outliers_with_nan(data):\n",
    "    # Calculate the first quartile (Q1) and third quartile (Q3)\n",
    "    Q1 = np.percentile(data, 25)\n",
    "    Q3 = np.percentile(data, 75)\n",
    "    \n",
    "    # Calculate the interquartile range (IQR)\n",
    "    IQR = Q3 - Q1\n",
    "    \n",
    "    # Define the lower and upper bounds for outliers detection\n",
    "    lower_bound = Q1 - 1.5 * IQR\n",
    "    upper_bound = Q3 + 1.5 * IQR\n",
    "    \n",
    "    # Replace outliers with NaN\n",
    "    data_without_outliers = np.where((data < lower_bound) | (data > upper_bound), np.nan, data)\n",
    "    \n",
    "    return data_without_outliers"
   ]
  },
  {
   "cell_type": "code",
   "execution_count": 47,
   "id": "4cf2d081-2b17-4ea8-9c71-33025d18c601",
   "metadata": {},
   "outputs": [
    {
     "data": {
      "image/png": "[encoded data removed]",
      "text/plain": [
       "<Figure size 640x480 with 1 Axes>"
      ]
     },
     "metadata": {},
     "output_type": "display_data"
    }
   ],
   "source": [
    "new_Ep = replace_outliers_with_nan(np.array(Epg))\n",
    "x_interp = np.linspace(Varray.min(), Varray.max(), len(Varray))\n",
    "Ep_interp = np.interp(x_interp, Varray, new_Ep)\n",
    "plt.ylim(-0.5,0.50)\n",
    "plt.xlim(1.2,1.55)\n",
    "plt.plot(x_interp, Ep_interp)\n",
    "plt.xlabel(\"Plole Position\")\n",
    "plt.ylabel(\"V0\")\n",
    "plt.grid()\n",
    "plt.savefig(\"Pole position\"+\".png\")\n",
    "plt.show()"
   ]
  },
  {
   "cell_type": "code",
   "execution_count": 22,
   "id": "04c864f6-ac47-498f-bb38-4bfe170be637",
   "metadata": {},
   "outputs": [
    {
     "data": {
      "text/plain": [
       "246"
      ]
     },
     "execution_count": 22,
     "metadata": {},
     "output_type": "execute_result"
    }
   ],
   "source": [
    "len(filtered_data)"
   ]
  },
  {
   "cell_type": "code",
   "execution_count": 23,
   "id": "e5ba05e7-9f55-4889-a107-25b650640a78",
   "metadata": {},
   "outputs": [
    {
     "data": {
      "text/plain": [
       "270"
      ]
     },
     "execution_count": 23,
     "metadata": {},
     "output_type": "execute_result"
    }
   ],
   "source": [
    "len(Varray)"
   ]
  },
  {
   "cell_type": "code",
   "execution_count": null,
   "id": "1db12e07-373d-413b-b99e-b716578505c2",
   "metadata": {},
   "outputs": [],
   "source": []
  }
 ],
 "metadata": {
  "kernelspec": {
   "display_name": "Python 3 (ipykernel)",
   "language": "python",
   "name": "python3"
  },
  "language_info": {
   "codemirror_mode": {
    "name": "ipython",
    "version": 3
   },
   "file_extension": ".py",
   "mimetype": "text/x-python",
   "name": "python",
   "nbconvert_exporter": "python",
   "pygments_lexer": "ipython3",
   "version": "3.8.18"
  }
 },
 "nbformat": 4,
 "nbformat_minor": 5
}
